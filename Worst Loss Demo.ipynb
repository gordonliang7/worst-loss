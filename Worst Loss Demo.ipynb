{
 "cells": [
  {
   "cell_type": "code",
   "execution_count": null,
   "id": "0d8fbc74",
   "metadata": {},
   "outputs": [],
   "source": [
    "import pandas as pd\n",
    "sampleData = MLB2022 = pd.read_csv('Worst Loss Search Demo.csv')"
   ]
  },
  {
   "cell_type": "code",
   "execution_count": null,
   "id": "9edb1be3",
   "metadata": {},
   "outputs": [],
   "source": [
    "def gameResult(gameDF):\n",
    "    '''Function to be used after an initial groupby that--after applying to every game-- will\n",
    "    allow us to summarize each game with the Losing Team, the final score, the biggest lead\n",
    "    that the losing team had in the game and more'''\n",
    "    gameDF['Home - Away'] = gameDF['home_score'] - gameDF['away_score']\n",
    "    homeFinal = gameDF['post_home_score'].max()\n",
    "    awayFinal = gameDF['post_away_score'].max()\n",
    "    cols = ['Winning Team','Losing Team','Date','Score','Biggest Lead (blown)',\n",
    "            'Latest Inning With Lead','Most Outs in the Inning with Lead']\n",
    "    returnedSeries = {stat: None for stat in cols} #Was originally a Series but Dictionary was a better fit\n",
    "    #Returned Series stores the data that's used to contruct the DataFrame later on\n",
    "    returnedSeries['Date'] = gameDF['game_date'].iloc[0] #LINE 12 (For \"Check Your Understanding\")\n",
    "    \n",
    "    def findLeadData(lead):\n",
    "        '''finds the latest moment when the losing team had their biggest lead of the night\n",
    "        Output:[Inning, Outs]'''\n",
    "        withLead = gameDF[gameDF['Home - Away'] == lead]\n",
    "        inning = withLead['inning'].max()\n",
    "        return [inning,withLead[withLead['inning'] == inning]['outs_when_up'].max()]\n",
    "    \n",
    "    def homeWon(): #fill returnedSeries with correct data if the home team wins\n",
    "        returnedSeries['Winning Team'] = gameDF['home_team'].iloc[0]\n",
    "        returnedSeries['Losing Team'] = gameDF['away_team'].iloc[0]\n",
    "        returnedSeries['Score'] = f'{homeFinal} - {awayFinal}'\n",
    "        returnedSeries['Biggest Lead (blown)'] = -1 * gameDF['Home - Away'].min()\n",
    "        LeadData = findLeadData(gameDF['Home - Away'].min())\n",
    "        returnedSeries['Latest Inning With Lead'] = LeadData[0]\n",
    "        returnedSeries['Most Outs in the Inning with Lead'] = LeadData[1]\n",
    "        \n",
    "    def awayWon(): #fill returnedSeries with correct data if the home team wins\n",
    "        returnedSeries['Losing Team'] = gameDF['home_team'].iloc[0]\n",
    "        returnedSeries['Winning Team'] = gameDF['away_team'].iloc[0]\n",
    "        returnedSeries['Score'] = f'{awayFinal} - {homeFinal}'\n",
    "        returnedSeries['Biggest Lead (blown)'] = gameDF['Home - Away'].max()\n",
    "        LeadData = findLeadData(gameDF['Home - Away'].max())\n",
    "        returnedSeries['Latest Inning With Lead'] = LeadData[0]\n",
    "        returnedSeries['Most Outs in the Inning with Lead'] = LeadData[1]\n",
    "        \n",
    "    if homeFinal > awayFinal:\n",
    "        homeWon()\n",
    "    else:\n",
    "        awayWon()\n",
    "    return pd.DataFrame({col:[returnedSeries[col]] for col in cols})"
   ]
  },
  {
   "cell_type": "code",
   "execution_count": null,
   "id": "62a304e5",
   "metadata": {},
   "outputs": [],
   "source": [
    "def findByTeam(teamDF):\n",
    "    '''This function is grouped by losing team so for each team we can find their worst loss'''\n",
    "    withBiggestLead = teamDF[teamDF['Biggest Lead (blown)'] == teamDF['Biggest Lead (blown)'].max()]\n",
    "    inLatestInning = withBiggestLead[withBiggestLead['Latest Inning With Lead'] == withBiggestLead['Latest Inning With Lead'].max()]\n",
    "    withMostOuts = inLatestInning[inLatestInning['Most Outs in the Inning with Lead'] == inLatestInning['Most Outs in the Inning with Lead'].max()]\n",
    "    return withMostOuts"
   ]
  },
  {
   "cell_type": "code",
   "execution_count": null,
   "id": "fd66a27a",
   "metadata": {},
   "outputs": [],
   "source": [
    "#First apply: Find the stats we want for every game\n",
    "gameSummary = sampleData.groupby('game_pk').apply(gameResult)"
   ]
  },
  {
   "cell_type": "code",
   "execution_count": null,
   "id": "10ba063d",
   "metadata": {},
   "outputs": [],
   "source": [
    "#Second apply: Find the worst loss in our data for each team\n",
    "teamSummary = gameSummary.groupby('Losing Team').apply(findByTeam)"
   ]
  },
  {
   "cell_type": "code",
   "execution_count": null,
   "id": "55a66cd7",
   "metadata": {},
   "outputs": [],
   "source": [
    "### CHECK YOUR UNDERSTANDING\n",
    "###\n",
    "### If I grouped by Winning Team instead in the cell above, what would my chart represent?\n",
    "###\n",
    "### Why do I need to put homeWon, awayWon and findLeadData within the gameResult instead of\n",
    "###     outside of it to make it less chunky?\n",
    "###\n",
    "### Why was line 12 of cell 2 (labelled above) put outside of the other functions that filled the returnedSeries data?"
   ]
  }
 ],
 "metadata": {
  "kernelspec": {
   "display_name": "Python 3 (ipykernel)",
   "language": "python",
   "name": "python3"
  },
  "language_info": {
   "codemirror_mode": {
    "name": "ipython",
    "version": 3
   },
   "file_extension": ".py",
   "mimetype": "text/x-python",
   "name": "python",
   "nbconvert_exporter": "python",
   "pygments_lexer": "ipython3",
   "version": "3.9.12"
  }
 },
 "nbformat": 4,
 "nbformat_minor": 5
}
